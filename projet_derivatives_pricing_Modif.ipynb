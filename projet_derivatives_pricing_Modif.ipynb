{
  "cells": [
    {
      "cell_type": "markdown",
      "metadata": {
        "id": "view-in-github",
        "colab_type": "text"
      },
      "source": [
        "<a href=\"https://colab.research.google.com/github/jennadb/Derivative-Pricing/blob/main/projet_derivatives_pricing_Modif.ipynb\" target=\"_parent\"><img src=\"https://colab.research.google.com/assets/colab-badge.svg\" alt=\"Open In Colab\"/></a>"
      ]
    },
    {
      "cell_type": "markdown",
      "metadata": {
        "id": "GUooe0nQNeN0"
      },
      "source": [
        "# Range accrual under Vasicek model or CIR model"
      ]
    },
    {
      "cell_type": "code",
      "execution_count": 1,
      "metadata": {
        "id": "2LWRG9XIBqRV"
      },
      "outputs": [],
      "source": [
        "#import library\n",
        "import numpy as np\n",
        "import scipy as sp\n",
        "import matplotlib.pyplot as plt\n",
        "import pylab as plt\n",
        "from random import gauss\n",
        "from scipy.stats import norm\n",
        "import pandas as pd"
      ]
    },
    {
      "cell_type": "markdown",
      "metadata": {
        "id": "sjfAlPeYBS7b"
      },
      "source": [
        "### Perform the pricing using a Monte-Carlo approach, providing with a confidence interval"
      ]
    },
    {
      "cell_type": "markdown",
      "metadata": {
        "id": "AeSBYUaLMxhR"
      },
      "source": [
        "The payoff of range accrual at time T (maturity date) is defined as follow:\n",
        "$$ P_T = \\frac{P}{N}\\sum_{i=1}^N 1_{index(i) \\in Range}$$\n",
        "\n",
        "Where\n",
        "$N = Trading \\; days$\n",
        "\n",
        "$ P = Notional$\n",
        "\n",
        "\n",
        "Pricing this financial productio under Vasicek model is defined as follow:\n",
        "$$P_0 = E\\left[e^{-\\int_{0}^{T} r_t dt} \\frac{P}{N}\\sum_{i=1}^{N}1_{index(i) \\in Range}\\right] $$"
      ]
    },
    {
      "cell_type": "code",
      "execution_count": 2,
      "metadata": {
        "id": "TC82IxqlBeqV"
      },
      "outputs": [],
      "source": [
        "def confidence_interval_95(liste,x,nb_of_sims):\n",
        "    x_std = np.std(liste)\n",
        "    return [x - 1.96*x_std/np.sqrt(nb_of_sims), x + 1.96*x_std/np.sqrt(nb_of_sims)]"
      ]
    },
    {
      "cell_type": "code",
      "execution_count": 3,
      "metadata": {
        "id": "mRxbenmpzXaL"
      },
      "outputs": [],
      "source": [
        "def VasicekRangeAccrualByMC(t,k,K1,K2,N,P,theta,sigma,r,nbSimul,nbSteps):\n",
        "    dt = (N-t) / nbSteps \n",
        "    std = sigma * np.sqrt( (1 - np.exp(-2*k*dt)) / (2*k) )\n",
        "    myMCestimate = []\n",
        "    for i in range(nbSimul):\n",
        "        spotRate = r\n",
        "        integralSpotRate = 0\n",
        "        RA_payoff = 0 # initialize the payoff of range accrual\n",
        "        indic = 0 #indicatrice\n",
        "        for j in range(nbSteps):\n",
        "            integralSpotRate += spotRate #to compute the integral of the short rate process\n",
        "            spotRate = spotRate * np.exp(-k*dt) + theta * (1 - np.exp(-k*dt)) + std * gauss(0.0,1.0)\n",
        "            integralSpotRate *= dt\n",
        "            if(K1<= spotRate and spotRate<=K2):\n",
        "                indic += 1\n",
        "        integralSpotRate *= dt\n",
        "        RA_payoff = P/N*indic#range accrual payoff\n",
        "        myMCestimate.append(np.exp(-integralSpotRate) * RA_payoff)\n",
        "\n",
        "    Price = np.mean(myMCestimate)\n",
        "    CI = confidence_interval_95(myMCestimate,Price,nbSimul)\n",
        "    return  Price,CI"
      ]
    },
    {
      "cell_type": "code",
      "execution_count": 4,
      "metadata": {
        "colab": {
          "base_uri": "https://localhost:8080/"
        },
        "id": "RW9HUaMHzfT3",
        "outputId": "8e4428e9-c595-496b-9a4e-748fed59ceae"
      },
      "outputs": [
        {
          "output_type": "stream",
          "name": "stdout",
          "text": [
            "Price of range accrual under Vasicek: 3.5639999224711283\n",
            "Confidence interval: [3.8271540420240306, 5.352845755548643]\n"
          ]
        }
      ],
      "source": [
        "nbSimul = 10000\n",
        "nbSteps = 100\n",
        "N = 1/12 #trading days\n",
        "P = 1 #Notional\n",
        "K1 = 0.03 #1st index in the range\n",
        "K2 = 0.05 #last index in the range\n",
        "k = 0.5\n",
        "theta = 0.04 #long term value of interest rate\n",
        "sigma = 0.015\n",
        "r = 0.02\n",
        "t = 0\n",
        "\n",
        "print(f'Price of range accrual under Vasicek: {VasicekRangeAccrualByMC(t,k,K1,K2,N,P,theta,sigma,r,nbSimul,nbSteps)[0]}')\n",
        "print(f'Confidence interval: {VasicekRangeAccrualByMC(t,k,K1,K2,N,P,theta,sigma,r,nbSimul,nbSteps)[1]}')"
      ]
    },
    {
      "cell_type": "code",
      "source": [
        "# comment about the price and CI:\n",
        "# \n",
        "# "
      ],
      "metadata": {
        "id": "OTGibTmx6TPb"
      },
      "execution_count": null,
      "outputs": []
    },
    {
      "cell_type": "markdown",
      "source": [
        "Plotting the price of the range accrual with respect to the underlying "
      ],
      "metadata": {
        "id": "B0dL7dvlFSdc"
      }
    },
    {
      "cell_type": "code",
      "source": [
        "# range of initial interest rates to plot\n",
        "rates = np.linspace(0.01, 0.07, 100)\n",
        "\n",
        "# list to store prices\n",
        "prices = []\n",
        "\n",
        "# compute prices for each initial interest rate value\n",
        "for rate in rates:\n",
        "    price = VasicekRangeAccrualByMC(t, k, K1, K2, N, P, theta, sigma, rate, nbSimul, nbSteps)[0]\n",
        "    prices.append(price)\n",
        "\n",
        "# plot results\n",
        "plt.plot(rates, prices)\n",
        "plt.xlabel('Interest rate')\n",
        "plt.ylabel('Range accrual price')\n"
      ],
      "metadata": {
        "colab": {
          "base_uri": "https://localhost:8080/",
          "height": 466
        },
        "id": "ki1xxDNF7LRD",
        "outputId": "5c103bc9-8e0c-4c5a-c1d4-37507cca35ae"
      },
      "execution_count": 5,
      "outputs": [
        {
          "output_type": "execute_result",
          "data": {
            "text/plain": [
              "Text(0, 0.5, 'Range accrual price')"
            ]
          },
          "metadata": {},
          "execution_count": 5
        },
        {
          "output_type": "display_data",
          "data": {
            "text/plain": [
              "<Figure size 640x480 with 1 Axes>"
            ],
            "image/png": "[encoded data removed]"
          },
          "metadata": {}
        }
      ]
    },
    {
      "cell_type": "markdown",
      "metadata": {
        "id": "GPblo3VOBZMN"
      },
      "source": [
        "### Provide with the 1st and 2nd order price function sensitivity with respect to parallel movements of the initial ZC bond rate curve.\n"
      ]
    },
    {
      "cell_type": "code",
      "execution_count": null,
      "metadata": {
        "id": "ZLlu8EmvaxMG"
      },
      "outputs": [],
      "source": [
        "def FirstOrderSensitivity(t,k,K1,K2,N,P,theta,sigma,r,nbSimul,nbSteps, eps):\n",
        "    P1 = VasicekRangeAccrualByMC(t,k,K1,K2,N,P,theta,sigma,r+eps,nbSimul,nbSteps)[0]\n",
        "    P2 =  VasicekRangeAccrualByMC(t,k,K1,K2,N,P,theta,sigma,r-eps,nbSimul,nbSteps)[0]\n",
        "    return (P1-P2)/(2*eps)"
      ]
    },
    {
      "cell_type": "code",
      "execution_count": null,
      "metadata": {
        "id": "H6BO6ASJcEhk"
      },
      "outputs": [],
      "source": [
        "def SecondOrderSensitivity(t,k,K1,K2,N,P,theta,sigma,r,nbSimul,nbSteps, eps):\n",
        "    P1 = VasicekRangeAccrualByMC(t,k,K1,K2,N,P,theta,sigma,r+eps,nbSimul,nbSteps)[0]\n",
        "    P2 = 2*VasicekRangeAccrualByMC(t,k,K1,K2,N,P,theta,sigma,r,nbSimul,nbSteps)[0]\n",
        "    P3 = VasicekRangeAccrualByMC(t,k,K1,K2,N,P,theta,sigma,r-eps,nbSimul,nbSteps)[0]\n",
        "    return (P1 - P2 + P3)/(eps)**2"
      ]
    },
    {
      "cell_type": "code",
      "execution_count": null,
      "metadata": {
        "id": "jWFP3KetbaMz"
      },
      "outputs": [],
      "source": [
        "nbSimul = 10000\n",
        "nbSteps = 100\n",
        "N = 1/12\n",
        "P = 1\n",
        "K1 = 0.03\n",
        "K2 = 0.05\n",
        "k = 0.5\n",
        "theta = 0.04 #long term value of interest rate\n",
        "sigma = 0.015\n",
        "r = 0.02\n",
        "t = 0\n",
        "eps = 0.01\n",
        "print(FirstOrderSensitivity(t,k,K1,K2,N,P,theta,sigma,r,nbSimul,nbSteps, eps))\n",
        "print(SecondOrderSensitivity(t,k,K1,K2,N,P,theta,sigma,r,nbSimul,nbSteps, eps))"
      ]
    },
    {
      "cell_type": "code",
      "source": [
        "# comment the two sensitivities :\n",
        "#\n",
        "#\n"
      ],
      "metadata": {
        "id": "CkhWWj7J6fc8"
      },
      "execution_count": null,
      "outputs": []
    },
    {
      "cell_type": "code",
      "source": [
        "# comment on the possibility to hedge the risks and how:\n",
        "# \n",
        "# "
      ],
      "metadata": {
        "id": "WgQ4sgHg6o9O"
      },
      "execution_count": null,
      "outputs": []
    },
    {
      "cell_type": "markdown",
      "metadata": {
        "id": "ivAed7S5BfbI"
      },
      "source": [
        "### Calibrate the interest rate model on the initial ZC bond value curve, extracted from the market"
      ]
    },
    {
      "cell_type": "code",
      "execution_count": null,
      "metadata": {
        "id": "_YAKi_027NAc"
      },
      "outputs": [],
      "source": [
        "\"\"\" Extracting ZC from a Market Curve \"\"\"\n",
        "path = r\"IRMarketCurve.xlsx\" \n",
        "book = pd.read_excel(path)"
      ]
    },
    {
      "cell_type": "code",
      "execution_count": null,
      "metadata": {
        "id": "i4mJj9W0wNgI"
      },
      "outputs": [],
      "source": [
        "xl = pd.ExcelFile(path)\n",
        "d = []\n",
        "for sheet_name in xl.sheet_names:\n",
        "    df = xl.parse(sheet_name, index_col=None)\n",
        "    d.append(df)\n",
        "sheet = d[0]"
      ]
    },
    {
      "cell_type": "code",
      "execution_count": null,
      "metadata": {
        "id": "ZkFENTcdBkgF"
      },
      "outputs": [],
      "source": [
        "IRCurve = []\n",
        "for row_index in range(len(sheet)):\n",
        "    row= \"\"\n",
        "    Lign = []\n",
        "    for col in sheet.columns:\n",
        "        value = sheet.at[row_index, col]\n",
        "        Lign.append(value)\n",
        "    IRCurve.append(Lign)\n",
        "\n",
        "print(len(IRCurve))"
      ]
    },
    {
      "cell_type": "code",
      "execution_count": null,
      "metadata": {
        "id": "CgnuXwapwe7k"
      },
      "outputs": [],
      "source": [
        "def extractZCCurve(IRCurve):# We need to modify this part tomorrow\n",
        "   \n",
        "    ZC = []\n",
        "    \n",
        "    for i in range(4): # The formula is valid for all rates with maturity < 1yr\n",
        "        maturity = IRCurve[i+1][0] # beware of the indices\n",
        "        ZCrate = IRCurve[i+1][2] \n",
        "        ZCvalue = 1.0/(1+maturity*ZCrate)\n",
        "        ZC.append([maturity,ZCrate,ZCvalue]) #to store both ZCRate at Value\n",
        "    #sumOfZC = 0#zc value of maturity 1y\n",
        "    sumOfZC = 1/(1+IRCurve[4][2])#zc value of maturity 1y\n",
        "    for i in range(4,len(IRCurve)-1): # For swaps with maturity >= 2yr\n",
        "        #sumOfZC +=...\n",
        "        maturity = IRCurve[i+1][0]\n",
        "        ZCvalue = (1-IRCurve[i+1][2]*sumOfZC)/(1 + IRCurve[i+1][2])#\"To be filled\" \n",
        "        ZCrate =ZCvalue**(-10/maturity)-1.0 #\"To be filled\" \n",
        "        ZC.append([maturity,ZCrate,ZCvalue]) #to store both ZCRate at Value\n",
        "        sumOfZC += ZCvalue\n",
        "        \n",
        "    ZC = np.array(ZC) #to transform the list in np.array\n",
        "    return ZC\n",
        "\n",
        "ZCCurve = extractZCCurve(IRCurve)\n",
        "#print(ZCCurve)"
      ]
    },
    {
      "cell_type": "code",
      "execution_count": null,
      "metadata": {
        "id": "1674sh0GwuFn"
      },
      "outputs": [],
      "source": [
        "IRCurveShifted = [IRCurve[0]]\n",
        "for i in range(1,33):\n",
        "    IRCurveShifted.append([IRCurve[i][0],IRCurve[i][1],IRCurve[i][2]+0.01])\n",
        "ZCCurveShifted = extractZCCurve(IRCurveShifted)\n",
        "#print(ZCCurveShifted)"
      ]
    },
    {
      "cell_type": "code",
      "execution_count": null,
      "metadata": {
        "id": "XaPwFqy3xBnA"
      },
      "outputs": [],
      "source": [
        "def VasicekZCPrice(t,T,k,theta,sigma,rt):\n",
        "    B = (1-np.exp(-k*(T-t)))/k# ~ (T-t)\n",
        "    A =  np.exp((theta -0.5*sigma**2/k**2)*(B-T + t)-(0.25*sigma**2/k)*B**2)\n",
        "    ZC = A * np.exp(-B*rt)\n",
        "    return ZC"
      ]
    },
    {
      "cell_type": "code",
      "execution_count": null,
      "metadata": {
        "id": "uijUxmxFxNCA"
      },
      "outputs": [],
      "source": [
        "def LossFunction(param,ZCMarket,T): \n",
        "    #param>> vasicek model parameter\n",
        "    #ZCmarket is the ZC Bond value observed in the market(will be a list)\n",
        "    #T corresponding to the maturity(will be a list)\n",
        "    \n",
        "    log_k = param[0] # exponential transformation for a parameter\n",
        "    theta = param[1]\n",
        "    sigma = param[2]\n",
        "    r = param[3]\n",
        "    #t is time today and it is 0\n",
        "    #k should be positive that's why np.exp(log_k) = k\n",
        "    L = 0\n",
        "    for i in range(len(ZCMarket)):\n",
        "        L += (ZCMarket[i] - VasicekZCPrice(0,T[i],np.exp(log_k),theta,sigma,r))**2\n",
        "    return [L,0,0,0] #For the function root to work, the return type should have the \n",
        "    #same length as the parameters"
      ]
    },
    {
      "cell_type": "code",
      "execution_count": null,
      "metadata": {
        "id": "rDjUfrONxOvd"
      },
      "outputs": [],
      "source": [
        "from scipy.optimize import root\n",
        "initParam = [np.log(k),theta,sigma,r]\n",
        "calib = root(LossFunction, initParam, (ZCCurve[:,2],ZCCurve[:,0]))\n",
        "calibParam = [np.exp(calib.x[0]),calib.x[1],calib.x[2],calib.x[3]]\n",
        "print(calibParam)\n"
      ]
    },
    {
      "cell_type": "markdown",
      "metadata": {
        "id": "I2PXYWFk2Siz"
      },
      "source": [
        "## Calibration parameter"
      ]
    },
    {
      "cell_type": "markdown",
      "metadata": {
        "id": "mn82fEPr2Siz"
      },
      "source": [
        "We run the code by using the parameter obtained in the calibration parameter. We notice that there is a difference between the price obtained with the initial parameter and the one with calibration."
      ]
    },
    {
      "cell_type": "code",
      "execution_count": null,
      "metadata": {
        "id": "PZCAEw1GVePB"
      },
      "outputs": [],
      "source": [
        "nbSimul = 10000\n",
        "nbSteps = 100\n",
        "N = 1/12#trading day\n",
        "P = 1#Notional\n",
        "K1 = 0.03 #1st index in the range\n",
        "K2 = 0.05#last index in the range\n",
        "k = 0.07882985347854438 #k obtained in calibration parameter\n",
        "theta = 0.039998108271029675 #long term value of interest rate\n",
        "sigma = 0.01473292400940012\n",
        "r = 0.019434960812328282\n",
        "t = 0\n",
        "\n",
        "print(f'Price of range accrual under Vasicek: {VasicekRangeAccrualByMC(t,k,K1,K2,N,P,theta,sigma,r,nbSimul,nbSteps)[0]}')\n",
        "print(f'Confidence interval: {VasicekRangeAccrualByMC(t,k,K1,K2,N,P,theta,sigma,r,nbSimul,nbSteps)[1]}')"
      ]
    },
    {
      "cell_type": "code",
      "execution_count": null,
      "metadata": {
        "id": "SqRQEND02Si0"
      },
      "outputs": [],
      "source": [
        "nbSimul = 10000\n",
        "nbSteps = 100\n",
        "N = 1/12#trading day\n",
        "P = 1#Notional\n",
        "K1 = 0.03 #1st index in the range\n",
        "K2 = 0.05#last index in the range\n",
        "k = 0.07882985347854438 #k obtained in calibration parameter\n",
        "theta = 0.039998108271029675 #long term value of interest rate\n",
        "sigma = 0.01473292400940012\n",
        "r = 0.019434960812328282\n",
        "t = 0\n",
        "eps = 0.01\n",
        "print(FirstOrderSensitivity(t,k,K1,K2,N,P,theta,sigma,r,nbSimul,nbSteps, eps))\n",
        "print(SecondOrderSensitivity(t,k,K1,K2,N,P,theta,sigma,r,nbSimul,nbSteps, eps))"
      ]
    }
  ],
  "metadata": {
    "colab": {
      "provenance": [],
      "include_colab_link": true
    },
    "kernelspec": {
      "display_name": "Python 3 (ipykernel)",
      "language": "python",
      "name": "python3"
    },
    "language_info": {
      "codemirror_mode": {
        "name": "ipython",
        "version": 3
      },
      "file_extension": ".py",
      "mimetype": "text/x-python",
      "name": "python",
      "nbconvert_exporter": "python",
      "pygments_lexer": "ipython3",
      "version": "3.8.12"
    }
  },
  "nbformat": 4,
  "nbformat_minor": 0
}