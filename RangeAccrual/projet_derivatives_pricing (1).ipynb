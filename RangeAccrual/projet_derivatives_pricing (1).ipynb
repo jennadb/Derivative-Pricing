{
  "nbformat": 4,
  "nbformat_minor": 0,
  "metadata": {
    "colab": {
      "provenance": []
    },
    "kernelspec": {
      "name": "python3",
      "display_name": "Python 3"
    },
    "language_info": {
      "name": "python"
    }
  },
  "cells": [
    {
      "cell_type": "markdown",
      "source": [
        "# Range accrual under Vasicek model or CIR model"
      ],
      "metadata": {
        "id": "GUooe0nQNeN0"
      }
    },
    {
      "cell_type": "code",
      "source": [
        "#import library\n",
        "import numpy as np\n",
        "import scipy as sp\n",
        "import matplotlib.pyplot as plt\n",
        "import pylab as plt\n",
        "from random import gauss\n",
        "from scipy.stats import norm\n",
        "import pandas as pd"
      ],
      "metadata": {
        "id": "2LWRG9XIBqRV"
      },
      "execution_count": 1,
      "outputs": []
    },
    {
      "cell_type": "markdown",
      "source": [
        "### Perform the pricing using a Monte-Carlo approach, providing with a confidence interval"
      ],
      "metadata": {
        "id": "sjfAlPeYBS7b"
      }
    },
    {
      "cell_type": "markdown",
      "source": [
        "The payoff of range accrual at time T (maturity date) is defined as follow:\n",
        "$$ P_T = \\frac{P}{N}\\sum_{i=1}^N 1_{index(i) \\in Range}$$\n",
        "\n",
        "Where\n",
        "$N = Trading \\; days$\n",
        "\n",
        "$ P = Notional$\n",
        "\n",
        "\n",
        "Pricing this financial productio under Vasicek model is defined as follow:\n",
        "$$P_0 = E\\left[e^{-\\int_{0}^{T} r_t dt} \\frac{P}{N}\\sum_{i=1}^{N}1_{index(i) \\in Range}\\right] $$"
      ],
      "metadata": {
        "id": "AeSBYUaLMxhR"
      }
    },
    {
      "cell_type": "code",
      "source": [
        "def confidence_interval_95(liste,x,nb_of_sims):\n",
        "    x_std = np.std(liste)\n",
        "    return [x - 1.96*x_std/np.sqrt(nb_of_sims), x + 1.96*x_std/np.sqrt(nb_of_sims)]"
      ],
      "metadata": {
        "id": "TC82IxqlBeqV"
      },
      "execution_count": 2,
      "outputs": []
    },
    {
      "cell_type": "code",
      "source": [
        "def VasicekRangeAccrualByMC(t,dates,k,K1,K2,N,P,S,theta,sigma,r,nbSimul,nbSteps):\n",
        "    T = dates[0]\n",
        "    dt = (T-t) / nbSteps \n",
        "    std = sigma * np.sqrt( (1 - np.exp(-2*k*dt)) / (2*k) )\n",
        "    myMCestimate = []\n",
        "    for i in range(nbSimul):\n",
        "        spotRate = r\n",
        "        integralSpotRate = 0\n",
        "        for j in range(nbSteps):\n",
        "            integralSpotRate += spotRate #to compute the integral of the short rate process\n",
        "            spotRate = spotRate * np.exp(-k*dt) + theta * (1 - np.exp(-k*dt)) + std * gauss(0.0,1.0)\n",
        "        integralSpotRate *= dt\n",
        "        RA_payoff = 0# initialize the payoff of range accrual\n",
        "        indic = 0#indicatrice\n",
        "        for n in range(N):\n",
        "            if(K1<= S and S<=K2):\n",
        "               indic = 1\n",
        "        RA_payoff = P/N*indic#range accrual payoff\n",
        "        myMCestimate.append(np.exp(-integralSpotRate) * RA_payoff)\n",
        "\n",
        "    Price = np.mean(myMCestimate)\n",
        "    CI = confidence_interval_95(myMCestimate,Price,nbSimul)\n",
        "    return  Price,CI"
      ],
      "metadata": {
        "id": "mRxbenmpzXaL"
      },
      "execution_count": 13,
      "outputs": []
    },
    {
      "cell_type": "code",
      "source": [
        "nbSimul = 10000\n",
        "nbSteps = 100\n",
        "N = 10#trading day\n",
        "P = 10#Notional\n",
        "K1 = 100 #1st index in the range\n",
        "K2 = 250#last index in the range\n",
        "k = 0.5\n",
        "theta = 0.04 #long term value of interest rate\n",
        "sigma = 0.015\n",
        "r = 0.02\n",
        "t = 0\n",
        "#S = [2**i for i in range(10)]#N and S has to be the same length\n",
        "S = 100\n",
        "dates = [10, 11, 12, 13, 14, 15, 16, 17, 18, 19, 20] #list of dates\n",
        "print(f'Price of range accrual under Vasicek: {VasicekRangeAccrualByMC(t,dates,k,K1,K2,N,P,S,theta,sigma,r,nbSimul,nbSteps)[0]}')\n",
        "print(f'Confidence interval: {VasicekRangeAccrualByMC(t,dates,k,K1,K2,N,P,S,theta,sigma,r,nbSimul,nbSteps)[1]}')"
      ],
      "metadata": {
        "colab": {
          "base_uri": "https://localhost:8080/"
        },
        "id": "RW9HUaMHzfT3",
        "outputId": "b5ab751e-e164-439c-fd06-c9f4832850ab"
      },
      "execution_count": 14,
      "outputs": [
        {
          "output_type": "stream",
          "name": "stdout",
          "text": [
            "Price of range accrual under Vasicek: 0.7004302253876685\n",
            "Confidence interval: [0.7003642741531879, 0.7025496390803929]\n"
          ]
        }
      ]
    },
    {
      "cell_type": "code",
      "source": [
        "nbSimul = 1000\n",
        "nbSteps = 100\n",
        "N = 10\n",
        "P = 10\n",
        "K1 = 100\n",
        "K2 = 250\n",
        "k = 0.5\n",
        "theta = 0.04\n",
        "sigma = 0.015\n",
        "r = 0.02\n",
        "t = 0\n",
        "S_range = np.linspace(50, 350, num=100)\n",
        "dates = [10, 11, 12, 13, 14, 15, 16, 17, 18, 19, 20]\n",
        "\n",
        "# prices of the range accrual product for each underlying asset value\n",
        "Price_range = np.zeros(len(S_range))\n",
        "for i in range(len(S_range)):\n",
        "    Price_range[i] = VasicekRangeAccrualByMC(t, dates, k, K1, K2, N, P, S_range[i], theta, sigma, r, nbSimul, nbSteps)[0]\n",
        "\n",
        "# plot the accrual range price function\n",
        "plt.plot(S_range, Price_range)\n",
        "plt.axhline(y=VasicekRangeAccrualByMC(t, dates, k, K1, K2, N, P, S, theta, sigma, r, nbSimul, nbSteps)[0], color='r', linestyle='--')\n",
        "plt.xlabel('Initial underlying asset value')\n",
        "plt.ylabel('Price of the range accrual product')\n",
        "plt.legend()\n",
        "plt.show()"
      ],
      "metadata": {
        "colab": {
          "base_uri": "https://localhost:8080/",
          "height": 486
        },
        "id": "RHRVvQcKltmg",
        "outputId": "2d850700-5285-44fb-f5ec-3e30e205e5e2"
      },
      "execution_count": 5,
      "outputs": [
        {
          "output_type": "stream",
          "name": "stderr",
          "text": [
            "WARNING:matplotlib.legend:No artists with labels found to put in legend.  Note that artists whose label start with an underscore are ignored when legend() is called with no argument.\n"
          ]
        },
        {
          "output_type": "display_data",
          "data": {
            "text/plain": [
              "<Figure size 640x480 with 1 Axes>"
            ],
            "image/png": "[encoded data removed]"
          },
          "metadata": {}
        }
      ]
    },
    {
      "cell_type": "markdown",
      "source": [
        "### Provide with the 1st and 2nd order price function sensitivity with respect to parallel movements of the initial ZC bond rate curve.\n"
      ],
      "metadata": {
        "id": "GPblo3VOBZMN"
      }
    },
    {
      "cell_type": "code",
      "source": [
        "def VasicekRangeAccrualByMC(t,dates,k,K1,K2,N,P,S,theta,sigma,r,nbSimul,nbSteps):\n",
        "    T = dates[0]\n",
        "    dt = (T-t) / nbSteps \n",
        "    std = sigma * np.sqrt( (1 - np.exp(-2*k*dt)) / (2*k) )\n",
        "    myMCestimate = []\n",
        "    for i in range(nbSimul):\n",
        "        spotRate = r\n",
        "        integralSpotRate = 0\n",
        "        for j in range(nbSteps):\n",
        "            integralSpotRate += spotRate #to compute the integral of the short rate process\n",
        "            spotRate = spotRate * np.exp(-k*dt) + theta * (1 - np.exp(-k*dt)) + std * gauss(0.0,1.0)\n",
        "        integralSpotRate *= dt\n",
        "        RA_payoff = 0# initialize the payoff of range accrual\n",
        "        indic = 0#indicatrice\n",
        "        for n in range(N):\n",
        "          indic = 0\n",
        "          for price in S:\n",
        "              if K1<=price and price <= K2:\n",
        "               indic = 1\n",
        "               \n",
        "        RA_payoff = P/N*indic#range accrual payoff\n",
        "        myMCestimate.append(np.exp(-integralSpotRate) * RA_payoff)\n",
        "\n",
        "    Price = np.mean(myMCestimate)\n",
        "    CI = confidence_interval_95(myMCestimate,Price,nbSimul)\n",
        "    return  Price,CI"
      ],
      "metadata": {
        "id": "kJRJMXvgqNit"
      },
      "execution_count": 22,
      "outputs": []
    },
    {
      "cell_type": "code",
      "source": [
        "def FirstOrderSensitivity(t,dates,k,K1,K2,N,P,S,theta,sigma,r,nbSimul,nbSteps, eps):\n",
        "    P1 = VasicekRangeAccrualByMC(t,dates,k,K1,K2,N,P,S,theta,sigma,r+eps,nbSimul,nbSteps)[0]\n",
        "    P2 =  VasicekRangeAccrualByMC(t,dates,k,K1,K2,N,P,S,theta,sigma,r-eps,nbSimul,nbSteps)[0]\n",
        "    return (P1-P2)/(2*eps)"
      ],
      "metadata": {
        "id": "ZLlu8EmvaxMG"
      },
      "execution_count": 18,
      "outputs": []
    },
    {
      "cell_type": "code",
      "source": [
        "def SecondOrderSensitivity(t,dates,k,K1,K2,N,P,S,theta,sigma,r,nbSimul,nbSteps, eps):\n",
        "    P1 = VasicekRangeAccrualByMC(t,dates,k,K1,K2,N,P,S,theta,sigma,r+eps,nbSimul,nbSteps)[0]\n",
        "    P2 = 2*VasicekRangeAccrualByMC(t,dates,k,K1,K2,N,P,S,theta,sigma,r-eps,nbSimul,nbSteps)[0]\n",
        "    P3 = VasicekRangeAccrualByMC(t,dates,k,K1,K2,N,P,S,theta,sigma,r-eps,nbSimul,nbSteps)[0]\n",
        "    return (P1 - P2 + P3)/(eps)**2"
      ],
      "metadata": {
        "id": "H6BO6ASJcEhk"
      },
      "execution_count": 7,
      "outputs": []
    },
    {
      "cell_type": "code",
      "source": [
        "nbSimul = 10000\n",
        "nbSteps = 100\n",
        "N = 10\n",
        "P = 9\n",
        "K1 = 100\n",
        "K2 = 250\n",
        "k = 0.5\n",
        "theta = 0.04 #long term value of interest rate\n",
        "sigma = 0.015\n",
        "r = 0.02\n",
        "t = 0\n",
        "S = [2**i for i in range(10)]#N and S has to be the same length\n",
        "dates = [10, 11, 12, 13, 14, 15, 16, 17, 18, 19, 20] #list of dates\n",
        "eps = 0.01\n",
        "print(FirstOrderSensitivity(t,dates,k,K1,K2,N,P,S,theta,sigma,r,nbSimul,nbSteps, eps))\n",
        "print(SecondOrderSensitivity(t,dates,k,K1,K2,N,P,S,theta,sigma,r,nbSimul,nbSteps, eps))#the value is weird!"
      ],
      "metadata": {
        "colab": {
          "base_uri": "https://localhost:8080/"
        },
        "id": "jWFP3KetbaMz",
        "outputId": "fb970a9e-b6c0-40e4-ad77-abe7934d97b9"
      },
      "execution_count": 23,
      "outputs": [
        {
          "output_type": "stream",
          "name": "stdout",
          "text": [
            "-1.266367619107428\n",
            "-256.11128216050827\n"
          ]
        }
      ]
    },
    {
      "cell_type": "code",
      "source": [
        "# other method:\n",
        "def price_sensitivities(P, r0, delta_r, Theta):\n",
        "    price_up = P(r0 + delta_r, Theta)\n",
        "    price_down = P(r0 - delta_r, Theta)\n",
        "    S = 0.5 * (price_up - price_down) / delta_r\n",
        "    C = (price_up - 2 * P(r0, Theta) + price_down) / (delta_r ** 2)\n",
        "    return S, C"
      ],
      "metadata": {
        "id": "ohWLeKSDNvEM"
      },
      "execution_count": 9,
      "outputs": []
    },
    {
      "cell_type": "code",
      "source": [
        "k = 0.1\n",
        "theta = 0.05\n",
        "sigma = 0.02\n",
        "r0 = 0.03"
      ],
      "metadata": {
        "id": "LFULLG1XN0ZA"
      },
      "execution_count": 10,
      "outputs": []
    },
    {
      "cell_type": "code",
      "source": [
        "def P(r, Theta):\n",
        "    k = Theta['k']\n",
        "    theta = Theta['theta']\n",
        "    sigma = Theta['sigma']\n",
        "    T = Theta['T']\n",
        "    B = (1 - np.exp(-k * T)) / k\n",
        "    A = np.exp((theta - (sigma ** 2) / (2 * (k ** 2))) * (B - T) - (sigma ** 2) / (4 * k) * (B ** 2))\n",
        "    return A * np.exp(-B * r)"
      ],
      "metadata": {
        "id": "Zd1WdUu2NvHk"
      },
      "execution_count": 11,
      "outputs": []
    },
    {
      "cell_type": "code",
      "source": [
        "Theta = {'k': 0.1, 'theta': 0.05, 'sigma': 0.02, 'T': 5}\n",
        "delta_r = 0.01\n",
        "S, C = price_sensitivities(P, r0, delta_r, Theta)\n",
        "print('First order sensitivity:', S)\n",
        "print('Second order sensitivity:', C) "
      ],
      "metadata": {
        "colab": {
          "base_uri": "https://localhost:8080/"
        },
        "id": "aDIf6WZEOEQ6",
        "outputId": "ce1fd230-481e-450c-9fed-ec1f3077e3c6"
      },
      "execution_count": 12,
      "outputs": [
        {
          "output_type": "stream",
          "name": "stdout",
          "text": [
            "First order sensitivity: -3.3354552211233846\n",
            "Second order sensitivity: 13.122300722858693\n"
          ]
        }
      ]
    },
    {
      "cell_type": "markdown",
      "source": [
        "### Calibrate the interest rate model on the initial ZC bond value curve, extracted from the market"
      ],
      "metadata": {
        "id": "ivAed7S5BfbI"
      }
    },
    {
      "cell_type": "code",
      "source": [
        "\"\"\" Extracting ZC from a Market Curve \"\"\"\n",
        "path = r\"IRMarketCurve.xlsx\" \n",
        "book = pd.read_excel(path)"
      ],
      "metadata": {
        "id": "_YAKi_027NAc"
      },
      "execution_count": null,
      "outputs": []
    },
    {
      "cell_type": "code",
      "source": [
        "xl = pd.ExcelFile(path)\n",
        "d = []\n",
        "for sheet_name in xl.sheet_names:\n",
        "    df = xl.parse(sheet_name, index_col=None)\n",
        "    d.append(df)\n",
        "sheet = d[0]"
      ],
      "metadata": {
        "id": "i4mJj9W0wNgI"
      },
      "execution_count": null,
      "outputs": []
    },
    {
      "cell_type": "code",
      "source": [
        "IRCurve = []\n",
        "for row_index in range(len(sheet)):\n",
        "    row= \"\"\n",
        "    Lign = []\n",
        "    for col in sheet.columns:\n",
        "        value = sheet.at[row_index, col]\n",
        "        Lign.append(value)\n",
        "    IRCurve.append(Lign)\n",
        "\n",
        "print(len(IRCurve))"
      ],
      "metadata": {
        "id": "ZkFENTcdBkgF",
        "colab": {
          "base_uri": "https://localhost:8080/"
        },
        "outputId": "f40f49cb-48d8-4b2b-eb0d-e2c6dbc09aac"
      },
      "execution_count": null,
      "outputs": [
        {
          "output_type": "stream",
          "name": "stdout",
          "text": [
            "33\n"
          ]
        }
      ]
    },
    {
      "cell_type": "code",
      "source": [
        "def extractZCCurve(IRCurve):# We need to modify this part tomorrow\n",
        "   \n",
        "    ZC = []\n",
        "    \n",
        "    for i in range(4): # The formula is valid for all rates with maturity < 1yr\n",
        "        maturity = IRCurve[i+1][0] # beware of the indices\n",
        "        ZCrate = IRCurve[i+1][2] #\"To be filled\" \n",
        "        ZCvalue = 1.0/(1+maturity*ZCrate) #\"To be filled\" \n",
        "        ZC.append([maturity,ZCrate,ZCvalue]) #to store both ZCRate at Value\n",
        "    #sumOfZC = 0#zc value of maturity 1y\n",
        "    sumOfZC = 1/(1+IRCurve[4][2])#zc value of maturity 1y\n",
        "    for i in range(4,len(IRCurve)-1): # For swaps with maturity >= 2yr\n",
        "        #sumOfZC +=...\n",
        "        maturity = IRCurve[i+1][0]\n",
        "        ZCvalue = (1-IRCurve[i+1][2]*sumOfZC)/(1 + IRCurve[i+1][2])#\"To be filled\" \n",
        "        ZCrate =ZCvalue**(-10/maturity)-1.0 #\"To be filled\" \n",
        "        ZC.append([maturity,ZCrate,ZCvalue]) #to store both ZCRate at Value\n",
        "        sumOfZC += ZCvalue\n",
        "        \n",
        "    ZC = np.array(ZC) #to transform the list in np.array\n",
        "    return ZC\n",
        "\n",
        "ZCCurve = extractZCCurve(IRCurve)\n",
        "print(ZCCurve)"
      ],
      "metadata": {
        "id": "CgnuXwapwe7k",
        "colab": {
          "base_uri": "https://localhost:8080/"
        },
        "outputId": "52b30a5f-71a4-42d9-fbdd-e3beb6543987"
      },
      "execution_count": null,
      "outputs": [
        {
          "output_type": "stream",
          "name": "stdout",
          "text": [
            "[[2.50000000e-01 1.69000000e-02 9.95792776e-01]\n",
            " [5.00000000e-01 1.84000000e-02 9.90883868e-01]\n",
            " [1.00000000e+00 1.90800000e-02 9.81277230e-01]\n",
            " [2.00000000e+00 2.09100000e-02 9.59858709e-01]\n",
            " [3.00000000e+00 1.54998613e-01 9.57691342e-01]\n",
            " [4.00000000e+00 1.79763407e-01 9.36013325e-01]\n",
            " [5.00000000e+00 1.96087654e-01 9.14362689e-01]\n",
            " [6.00000000e+00 2.08500022e-01 8.92589970e-01]\n",
            " [7.00000000e+00 2.19000943e-01 8.70556918e-01]\n",
            " [8.00000000e+00 2.27570279e-01 8.48717013e-01]\n",
            " [9.00000000e+00 2.35217953e-01 8.26857679e-01]\n",
            " [1.00000000e+01 2.41994282e-01 8.05156686e-01]\n",
            " [1.10000000e+01 2.48195527e-01 7.83590417e-01]\n",
            " [1.20000000e+01 2.53301509e-01 7.62664137e-01]\n",
            " [1.30000000e+01 2.57491151e-01 7.42409604e-01]\n",
            " [1.40000000e+01 2.61335522e-01 7.22498788e-01]\n",
            " [1.50000000e+01 2.64740552e-01 7.03068814e-01]\n",
            " [1.60000000e+01 2.67732047e-01 6.84157433e-01]\n",
            " [1.70000000e+01 2.70471181e-01 6.65671263e-01]\n",
            " [1.80000000e+01 2.72829016e-01 6.47759632e-01]\n",
            " [1.90000000e+01 2.74962408e-01 6.30311134e-01]\n",
            " [2.00000000e+01 2.76576769e-01 6.13629353e-01]\n",
            " [2.10000000e+01 2.77824483e-01 5.97599836e-01]\n",
            " [2.20000000e+01 2.78706256e-01 5.82242981e-01]\n",
            " [2.30000000e+01 2.79381570e-01 5.67413667e-01]\n",
            " [2.40000000e+01 2.79852819e-01 5.53115628e-01]\n",
            " [2.50000000e+01 2.80286521e-01 5.39177880e-01]\n",
            " [2.60000000e+01 2.80519370e-01 5.25770245e-01]\n",
            " [2.70000000e+01 2.80551545e-01 5.12894363e-01]\n",
            " [2.80000000e+01 2.80727953e-01 5.00173539e-01]\n",
            " [2.90000000e+01 2.80704162e-01 4.87975951e-01]\n",
            " [3.00000000e+01 2.80834596e-01 4.75905640e-01]]\n"
          ]
        }
      ]
    },
    {
      "cell_type": "code",
      "source": [
        "IRCurveShifted = [IRCurve[0]]\n",
        "for i in range(1,33):\n",
        "    IRCurveShifted.append([IRCurve[i][0],IRCurve[i][1],IRCurve[i][2]+0.01])\n",
        "ZCCurveShifted = extractZCCurve(IRCurveShifted)\n",
        "print(ZCCurveShifted)"
      ],
      "metadata": {
        "id": "1674sh0GwuFn",
        "colab": {
          "base_uri": "https://localhost:8080/"
        },
        "outputId": "8f734b41-fdc5-4e44-ae60-47b539b4c93a"
      },
      "execution_count": null,
      "outputs": [
        {
          "output_type": "stream",
          "name": "stdout",
          "text": [
            "[[2.50000000e-01 2.69000000e-02 9.93319924e-01]\n",
            " [5.00000000e-01 2.84000000e-02 9.85998817e-01]\n",
            " [1.00000000e+00 2.90800000e-02 9.71741750e-01]\n",
            " [2.00000000e+00 3.09100000e-02 9.41779209e-01]\n",
            " [3.00000000e+00 2.32510551e-01 9.39210213e-01]\n",
            " [4.00000000e+00 2.69187280e-01 9.09054070e-01]\n",
            " [5.00000000e+00 2.93031982e-01 8.79418032e-01]\n",
            " [6.00000000e+00 3.10716429e-01 8.50148424e-01]\n",
            " [7.00000000e+00 3.25215411e-01 8.21106454e-01]\n",
            " [8.00000000e+00 3.36901399e-01 7.92721246e-01]\n",
            " [9.00000000e+00 3.47117074e-01 7.64777660e-01]\n",
            " [1.00000000e+01 3.56051362e-01 7.37435195e-01]\n",
            " [1.10000000e+01 3.64121913e-01 7.10659385e-01]\n",
            " [1.20000000e+01 3.70790294e-01 6.84912000e-01]\n",
            " [1.30000000e+01 3.76292660e-01 6.60200681e-01]\n",
            " [1.40000000e+01 3.81309133e-01 6.36198680e-01]\n",
            " [1.50000000e+01 3.85748776e-01 6.13018025e-01]\n",
            " [1.60000000e+01 3.89653636e-01 5.90676226e-01]\n",
            " [1.70000000e+01 3.93221513e-01 5.69070022e-01]\n",
            " [1.80000000e+01 3.96306767e-01 5.48320500e-01]\n",
            " [1.90000000e+01 3.99099741e-01 5.28308399e-01]\n",
            " [2.00000000e+01 4.01250910e-01 5.09293560e-01]\n",
            " [2.10000000e+01 4.02943156e-01 4.91151917e-01]\n",
            " [2.20000000e+01 4.04177073e-01 4.73883807e-01]\n",
            " [2.30000000e+01 4.05146304e-01 4.57341325e-01]\n",
            " [2.40000000e+01 4.05853858e-01 4.41513081e-01]\n",
            " [2.50000000e+01 4.06505122e-01 4.26232641e-01]\n",
            " [2.60000000e+01 4.06898172e-01 4.11639527e-01]\n",
            " [2.70000000e+01 4.07032279e-01 3.97721470e-01]\n",
            " [2.80000000e+01 4.07340246e-01 3.84133779e-01]\n",
            " [2.90000000e+01 4.07388406e-01 3.71192754e-01]\n",
            " [3.00000000e+01 4.07626733e-01 3.58539890e-01]]\n"
          ]
        }
      ]
    },
    {
      "cell_type": "code",
      "source": [
        "plt.plot(ZCCurve[:,0],ZCCurve[:,1],label='ZC rate')\n",
        "plt.plot(ZCCurve[:,0],ZCCurveShifted[:,1],label='ZC rate shifted')\n",
        "plt.legend()\n",
        "plt.show()"
      ],
      "metadata": {
        "id": "JnlCRmpiw1gW",
        "colab": {
          "base_uri": "https://localhost:8080/",
          "height": 430
        },
        "outputId": "4380be39-cf5b-49ed-a8b9-f3f74e6dacb5"
      },
      "execution_count": null,
      "outputs": [
        {
          "output_type": "display_data",
          "data": {
            "text/plain": [
              "<Figure size 640x480 with 1 Axes>"
            ],
            "image/png": "[encoded data removed]"
          },
          "metadata": {}
        }
      ]
    },
    {
      "cell_type": "code",
      "source": [
        "def VasicekZCPrice(t,T,k,theta,sigma,rt):\n",
        "    B = (1-np.exp(-k*(T-t)))/k# ~ (T-t)\"To be filled\"\n",
        "    A =  np.exp((theta -0.5*sigma**2/k**2)*(B-T + t)-(0.25*sigma**2/k)*B**2)#\"To be filled\"\n",
        "    ZC = A * np.exp(-B*rt)\n",
        "    return ZC"
      ],
      "metadata": {
        "id": "XaPwFqy3xBnA"
      },
      "execution_count": null,
      "outputs": []
    },
    {
      "cell_type": "code",
      "source": [
        "def LossFunction(param,ZCMarket,T): \n",
        "    #param>> vasicek model parameter\n",
        "    #ZCmarket is the ZC Bond value observed in the market(will be a list)\n",
        "    #T corresponding to the maturity(will be a list)\n",
        "    \n",
        "    log_k = param[0] # exponential transformation for a parameter\n",
        "    theta = param[1]\n",
        "    sigma = param[2]\n",
        "    r = param[3]\n",
        "    #t is time today and it is 0\n",
        "    #k should be positive that's why np.exp(log_k) = k\n",
        "    L = 0\n",
        "    for i in range(len(ZCMarket)):\n",
        "        L += (ZCMarket[i] - VasicekZCPrice(0,T[i],np.exp(log_k),theta,sigma,r))**2\n",
        "    return [L,0,0,0] #For the function root to work, the return type should have the \n",
        "    #same length as the parameters"
      ],
      "metadata": {
        "id": "uijUxmxFxNCA"
      },
      "execution_count": null,
      "outputs": []
    },
    {
      "cell_type": "code",
      "source": [
        "from scipy.optimize import root\n",
        "initParam = [np.log(k),theta,sigma,r]\n",
        "calib = root(LossFunction, initParam, (ZCCurve[:,2],ZCCurve[:,0]))\n",
        "calibParam = [np.exp(calib.x[0]),calib.x[1],calib.x[2],calib.x[3]]\n",
        "print(calibParam)\n",
        "\n",
        "# question 5 : plot\n",
        "\n",
        "plt.plot([t for t in range(1,31)], [(VasicekZCPrice(0,t,calibParam[0],calibParam[1],calibParam[2],calibParam[3]))**(-1.0/t)-1 for t in range(1,31)],label='ZC model')\n",
        "plt.plot(ZCCurve[:,0],ZCCurve[:,1],label='ZC from market')\n",
        "plt.legend()\n",
        "plt.show()\n",
        "\n",
        "plt.plot([t for t in range(31)], [VasicekZCPrice(0,t,calibParam[0],calibParam[1],calibParam[2],calibParam[3]) for t in range(31)],label='ZC model')\n",
        "plt.plot(ZCCurve[:,0],ZCCurve[:,2],label='ZC from market')\n",
        "plt.legend()\n",
        "plt.show()"
      ],
      "metadata": {
        "id": "rDjUfrONxOvd",
        "colab": {
          "base_uri": "https://localhost:8080/",
          "height": 860
        },
        "outputId": "2e724395-fe5e-413b-efe8-552f7eae39c3"
      },
      "execution_count": null,
      "outputs": [
        {
          "output_type": "stream",
          "name": "stdout",
          "text": [
            "[0.07882985346058878, 0.03999810827092267, 0.01473292399288899, 0.019434960794607128]\n"
          ]
        },
        {
          "output_type": "display_data",
          "data": {
            "text/plain": [
              "<Figure size 640x480 with 1 Axes>"
            ],
            "image/png": "[encoded data removed]"
          },
          "metadata": {}
        },
        {
          "output_type": "display_data",
          "data": {
            "text/plain": [
              "<Figure size 640x480 with 1 Axes>"
            ],
            "image/png": "[encoded data removed]"
          },
          "metadata": {}
        }
      ]
    },
    {
      "cell_type": "code",
      "source": [],
      "metadata": {
        "id": "PZCAEw1GVePB"
      },
      "execution_count": null,
      "outputs": []
    }
  ]
}