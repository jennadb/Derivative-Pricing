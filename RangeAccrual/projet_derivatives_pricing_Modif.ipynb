{
 "cells": [
  {
   "cell_type": "markdown",
   "metadata": {
    "id": "GUooe0nQNeN0"
   },
   "source": [
    "# Range accrual under Vasicek model or CIR model"
   ]
  },
  {
   "cell_type": "code",
   "execution_count": 1,
   "metadata": {
    "id": "2LWRG9XIBqRV"
   },
   "outputs": [],
   "source": [
    "#import library\n",
    "import numpy as np\n",
    "import scipy as sp\n",
    "import matplotlib.pyplot as plt\n",
    "import pylab as plt\n",
    "from random import gauss\n",
    "from scipy.stats import norm\n",
    "import pandas as pd"
   ]
  },
  {
   "cell_type": "markdown",
   "metadata": {
    "id": "sjfAlPeYBS7b"
   },
   "source": [
    "### Perform the pricing using a Monte-Carlo approach, providing with a confidence interval"
   ]
  },
  {
   "cell_type": "markdown",
   "metadata": {
    "id": "AeSBYUaLMxhR"
   },
   "source": [
    "The payoff of range accrual at time T (maturity date) is defined as follow:\n",
    "$$ P_T = \\frac{P}{N}\\sum_{i=1}^N 1_{index(i) \\in Range}$$\n",
    "\n",
    "Where\n",
    "$N = Trading \\; days$\n",
    "\n",
    "$ P = Notional$\n",
    "\n",
    "\n",
    "Pricing this financial productio under Vasicek model is defined as follow:\n",
    "$$P_0 = E\\left[e^{-\\int_{0}^{T} r_t dt} \\frac{P}{N}\\sum_{i=1}^{N}1_{index(i) \\in Range}\\right] $$"
   ]
  },
  {
   "cell_type": "code",
   "execution_count": 31,
   "metadata": {
    "id": "TC82IxqlBeqV"
   },
   "outputs": [],
   "source": [
    "def confidence_interval_95(liste,x,nb_of_sims):\n",
    "    x_std = np.std(liste)\n",
    "    return [x - 1.96*x_std/np.sqrt(nb_of_sims), x + 1.96*x_std/np.sqrt(nb_of_sims)]"
   ]
  },
  {
   "cell_type": "code",
   "execution_count": 32,
   "metadata": {
    "id": "mRxbenmpzXaL"
   },
   "outputs": [],
   "source": [
    "def VasicekRangeAccrualByMC(t,k,K1,K2,N,P,theta,sigma,r,nbSimul,nbSteps):\n",
    "    dt = (N-t) / nbSteps \n",
    "    std = sigma * np.sqrt( (1 - np.exp(-2*k*dt)) / (2*k) )\n",
    "    myMCestimate = []\n",
    "    for i in range(nbSimul):\n",
    "        spotRate = r\n",
    "        integralSpotRate = 0\n",
    "        RA_payoff = 0# initialize the payoff of range accrual\n",
    "        indic = 0#indicatrice\n",
    "        for j in range(nbSteps):\n",
    "            integralSpotRate += spotRate #to compute the integral of the short rate process\n",
    "            spotRate = spotRate * np.exp(-k*dt) + theta * (1 - np.exp(-k*dt)) + std * gauss(0.0,1.0)\n",
    "            integralSpotRate *= dt\n",
    "            if(K1<= spotRate and spotRate<=K2):\n",
    "                indic += 1\n",
    "                RA_payoff = P/N*indic#range accrual payoff\n",
    "        myMCestimate.append(np.exp(-integralSpotRate) * RA_payoff)\n",
    "\n",
    "    Price = np.mean(myMCestimate)\n",
    "    CI = confidence_interval_95(myMCestimate,Price,nbSimul)\n",
    "    return  Price,CI"
   ]
  },
  {
   "cell_type": "code",
   "execution_count": 33,
   "metadata": {
    "colab": {
     "base_uri": "https://localhost:8080/"
    },
    "id": "RW9HUaMHzfT3",
    "outputId": "b5ab751e-e164-439c-fd06-c9f4832850ab"
   },
   "outputs": [
    {
     "name": "stdout",
     "output_type": "stream",
     "text": [
      "Price of range accrual under Vasicek: 3.383911939741177\n",
      "Confidence interval: [3.2507274790392033, 4.589867602073511]\n"
     ]
    }
   ],
   "source": [
    "nbSimul = 10000\n",
    "nbSteps = 100\n",
    "N = 1/12#trading day\n",
    "P = 1#Notional\n",
    "K1 = 0.03 #1st index in the range\n",
    "K2 = 0.05#last index in the range\n",
    "k = 0.5\n",
    "theta = 0.04 #long term value of interest rate\n",
    "sigma = 0.015\n",
    "r = 0.02\n",
    "t = 0\n",
    "#S = [2**i for i in range(10)]#N and S has to be the same length\n",
    "\n",
    "print(f'Price of range accrual under Vasicek: {VasicekRangeAccrualByMC(t,k,K1,K2,N,P,theta,sigma,r,nbSimul,nbSteps)[0]}')\n",
    "print(f'Confidence interval: {VasicekRangeAccrualByMC(t,k,K1,K2,N,P,theta,sigma,r,nbSimul,nbSteps)[1]}')"
   ]
  },
  {
   "cell_type": "markdown",
   "metadata": {
    "id": "GPblo3VOBZMN"
   },
   "source": [
    "### Provide with the 1st and 2nd order price function sensitivity with respect to parallel movements of the initial ZC bond rate curve.\n"
   ]
  },
  {
   "cell_type": "code",
   "execution_count": 34,
   "metadata": {
    "id": "ZLlu8EmvaxMG"
   },
   "outputs": [],
   "source": [
    "def FirstOrderSensitivity(t,k,K1,K2,N,P,theta,sigma,r,nbSimul,nbSteps, eps):\n",
    "    P1 = VasicekRangeAccrualByMC(t,k,K1,K2,N,P,theta,sigma,r+eps,nbSimul,nbSteps)[0]\n",
    "    P2 =  VasicekRangeAccrualByMC(t,k,K1,K2,N,P,theta,sigma,r-eps,nbSimul,nbSteps)[0]\n",
    "    return (P1-P2)/(2*eps)"
   ]
  },
  {
   "cell_type": "code",
   "execution_count": 35,
   "metadata": {
    "id": "H6BO6ASJcEhk"
   },
   "outputs": [],
   "source": [
    "def SecondOrderSensitivity(t,k,K1,K2,N,P,theta,sigma,r,nbSimul,nbSteps, eps):\n",
    "    P1 = VasicekRangeAccrualByMC(t,k,K1,K2,N,P,theta,sigma,r+eps,nbSimul,nbSteps)[0]\n",
    "    P2 = 2*VasicekRangeAccrualByMC(t,k,K1,K2,N,P,theta,sigma,r,nbSimul,nbSteps)[0]\n",
    "    P3 = VasicekRangeAccrualByMC(t,k,K1,K2,N,P,theta,sigma,r-eps,nbSimul,nbSteps)[0]\n",
    "    return (P1 - P2 + P3)/(eps)**2"
   ]
  },
  {
   "cell_type": "code",
   "execution_count": 37,
   "metadata": {
    "colab": {
     "base_uri": "https://localhost:8080/"
    },
    "id": "jWFP3KetbaMz",
    "outputId": "fb970a9e-b6c0-40e4-ad77-abe7934d97b9"
   },
   "outputs": [
    {
     "name": "stdout",
     "output_type": "stream",
     "text": [
      "31711.600175961525\n",
      "6264309.819193147\n"
     ]
    }
   ],
   "source": [
    "nbSimul = 10000\n",
    "nbSteps = 100\n",
    "N = 1/12\n",
    "P = 1\n",
    "K1 = 0.03\n",
    "K2 = 0.05\n",
    "k = 0.5\n",
    "theta = 0.04 #long term value of interest rate\n",
    "sigma = 0.015\n",
    "r = 0.02\n",
    "t = 0\n",
    "S = [2**i for i in range(10)]#N and S has to be the same length\n",
    "dates = [1/12, 11, 12, 13, 14, 15, 16, 17, 18, 19, 20] #list of dates\n",
    "eps = 0.01\n",
    "print(FirstOrderSensitivity(t,k,K1,K2,N,P,theta,sigma,r,nbSimul,nbSteps, eps))\n",
    "print(SecondOrderSensitivity(t,k,K1,K2,N,P,theta,sigma,r,nbSimul,nbSteps, eps))#the value is weird!"
   ]
  },
  {
   "cell_type": "code",
   "execution_count": 20,
   "metadata": {
    "id": "ohWLeKSDNvEM"
   },
   "outputs": [],
   "source": [
    "# other method:\n",
    "def price_sensitivities(P, r0, delta_r, Theta):\n",
    "    price_up = P(r0 + delta_r, Theta)\n",
    "    price_down = P(r0 - delta_r, Theta)\n",
    "    S = 0.5 * (price_up - price_down) / delta_r\n",
    "    C = (price_up - 2 * P(r0, Theta) + price_down) / (delta_r ** 2)\n",
    "    return S, C"
   ]
  },
  {
   "cell_type": "code",
   "execution_count": 27,
   "metadata": {
    "id": "LFULLG1XN0ZA"
   },
   "outputs": [],
   "source": [
    "k = 0.5\n",
    "theta = 0.05\n",
    "sigma = 0.015\n",
    "r0 = 0.02"
   ]
  },
  {
   "cell_type": "code",
   "execution_count": 28,
   "metadata": {
    "id": "Zd1WdUu2NvHk"
   },
   "outputs": [],
   "source": [
    "def P(r, Theta):\n",
    "    k = Theta['k']\n",
    "    theta = Theta['theta']\n",
    "    sigma = Theta['sigma']\n",
    "    T = Theta['T']\n",
    "    B = (1 - np.exp(-k * T)) / k\n",
    "    A = np.exp((theta - (sigma ** 2) / (2 * (k ** 2))) * (B - T) - (sigma ** 2) / (4 * k) * (B ** 2))\n",
    "    return A * np.exp(-B * r)"
   ]
  },
  {
   "cell_type": "code",
   "execution_count": 29,
   "metadata": {
    "colab": {
     "base_uri": "https://localhost:8080/"
    },
    "id": "aDIf6WZEOEQ6",
    "outputId": "ce1fd230-481e-450c-9fed-ec1f3077e3c6"
   },
   "outputs": [
    {
     "name": "stdout",
     "output_type": "stream",
     "text": [
      "First order sensitivity: -0.081480989123911\n",
      "Second order sensitivity: 0.006650566432009342\n"
     ]
    }
   ],
   "source": [
    "Theta = {'k': 0.5, 'theta': 0.05, 'sigma': 0.015, 'T': 1/12}\n",
    "delta_r = 0.01\n",
    "S, C = price_sensitivities(P, r0, delta_r, Theta)\n",
    "print('First order sensitivity:', S)\n",
    "print('Second order sensitivity:', C) "
   ]
  },
  {
   "cell_type": "markdown",
   "metadata": {
    "id": "ivAed7S5BfbI"
   },
   "source": [
    "### Calibrate the interest rate model on the initial ZC bond value curve, extracted from the market"
   ]
  },
  {
   "cell_type": "code",
   "execution_count": 39,
   "metadata": {
    "id": "_YAKi_027NAc"
   },
   "outputs": [],
   "source": [
    "\"\"\" Extracting ZC from a Market Curve \"\"\"\n",
    "path = r\"IRMarketCurve.xlsx\" \n",
    "book = pd.read_excel(path)"
   ]
  },
  {
   "cell_type": "code",
   "execution_count": 40,
   "metadata": {
    "id": "i4mJj9W0wNgI"
   },
   "outputs": [],
   "source": [
    "xl = pd.ExcelFile(path)\n",
    "d = []\n",
    "for sheet_name in xl.sheet_names:\n",
    "    df = xl.parse(sheet_name, index_col=None)\n",
    "    d.append(df)\n",
    "sheet = d[0]"
   ]
  },
  {
   "cell_type": "code",
   "execution_count": 41,
   "metadata": {
    "colab": {
     "base_uri": "https://localhost:8080/"
    },
    "id": "ZkFENTcdBkgF",
    "outputId": "f40f49cb-48d8-4b2b-eb0d-e2c6dbc09aac"
   },
   "outputs": [
    {
     "name": "stdout",
     "output_type": "stream",
     "text": [
      "33\n"
     ]
    }
   ],
   "source": [
    "IRCurve = []\n",
    "for row_index in range(len(sheet)):\n",
    "    row= \"\"\n",
    "    Lign = []\n",
    "    for col in sheet.columns:\n",
    "        value = sheet.at[row_index, col]\n",
    "        Lign.append(value)\n",
    "    IRCurve.append(Lign)\n",
    "\n",
    "print(len(IRCurve))"
   ]
  },
  {
   "cell_type": "code",
   "execution_count": 50,
   "metadata": {
    "colab": {
     "base_uri": "https://localhost:8080/"
    },
    "id": "CgnuXwapwe7k",
    "outputId": "52b30a5f-71a4-42d9-fbdd-e3beb6543987"
   },
   "outputs": [],
   "source": [
    "def extractZCCurve(IRCurve):# We need to modify this part tomorrow\n",
    "   \n",
    "    ZC = []\n",
    "    \n",
    "    for i in range(4): # The formula is valid for all rates with maturity < 1yr\n",
    "        maturity = IRCurve[i+1][0] # beware of the indices\n",
    "        ZCrate = IRCurve[i+1][2] \n",
    "        ZCvalue = 1.0/(1+maturity*ZCrate)\n",
    "        ZC.append([maturity,ZCrate,ZCvalue]) #to store both ZCRate at Value\n",
    "    #sumOfZC = 0#zc value of maturity 1y\n",
    "    sumOfZC = 1/(1+IRCurve[4][2])#zc value of maturity 1y\n",
    "    for i in range(4,len(IRCurve)-1): # For swaps with maturity >= 2yr\n",
    "        #sumOfZC +=...\n",
    "        maturity = IRCurve[i+1][0]\n",
    "        ZCvalue = (1-IRCurve[i+1][2]*sumOfZC)/(1 + IRCurve[i+1][2])#\"To be filled\" \n",
    "        ZCrate =ZCvalue**(-10/maturity)-1.0 #\"To be filled\" \n",
    "        ZC.append([maturity,ZCrate,ZCvalue]) #to store both ZCRate at Value\n",
    "        sumOfZC += ZCvalue\n",
    "        \n",
    "    ZC = np.array(ZC) #to transform the list in np.array\n",
    "    return ZC\n",
    "\n",
    "ZCCurve = extractZCCurve(IRCurve)\n",
    "#print(ZCCurve)"
   ]
  },
  {
   "cell_type": "code",
   "execution_count": 49,
   "metadata": {
    "colab": {
     "base_uri": "https://localhost:8080/"
    },
    "id": "1674sh0GwuFn",
    "outputId": "8f734b41-fdc5-4e44-ae60-47b539b4c93a"
   },
   "outputs": [],
   "source": [
    "IRCurveShifted = [IRCurve[0]]\n",
    "for i in range(1,33):\n",
    "    IRCurveShifted.append([IRCurve[i][0],IRCurve[i][1],IRCurve[i][2]+0.01])\n",
    "ZCCurveShifted = extractZCCurve(IRCurveShifted)\n",
    "#print(ZCCurveShifted)"
   ]
  },
  {
   "cell_type": "code",
   "execution_count": 45,
   "metadata": {
    "id": "XaPwFqy3xBnA"
   },
   "outputs": [],
   "source": [
    "def VasicekZCPrice(t,T,k,theta,sigma,rt):\n",
    "    B = (1-np.exp(-k*(T-t)))/k# ~ (T-t)\n",
    "    A =  np.exp((theta -0.5*sigma**2/k**2)*(B-T + t)-(0.25*sigma**2/k)*B**2)\n",
    "    ZC = A * np.exp(-B*rt)\n",
    "    return ZC"
   ]
  },
  {
   "cell_type": "code",
   "execution_count": 46,
   "metadata": {
    "id": "uijUxmxFxNCA"
   },
   "outputs": [],
   "source": [
    "def LossFunction(param,ZCMarket,T): \n",
    "    #param>> vasicek model parameter\n",
    "    #ZCmarket is the ZC Bond value observed in the market(will be a list)\n",
    "    #T corresponding to the maturity(will be a list)\n",
    "    \n",
    "    log_k = param[0] # exponential transformation for a parameter\n",
    "    theta = param[1]\n",
    "    sigma = param[2]\n",
    "    r = param[3]\n",
    "    #t is time today and it is 0\n",
    "    #k should be positive that's why np.exp(log_k) = k\n",
    "    L = 0\n",
    "    for i in range(len(ZCMarket)):\n",
    "        L += (ZCMarket[i] - VasicekZCPrice(0,T[i],np.exp(log_k),theta,sigma,r))**2\n",
    "    return [L,0,0,0] #For the function root to work, the return type should have the \n",
    "    #same length as the parameters"
   ]
  },
  {
   "cell_type": "code",
   "execution_count": 48,
   "metadata": {
    "colab": {
     "base_uri": "https://localhost:8080/",
     "height": 860
    },
    "id": "rDjUfrONxOvd",
    "outputId": "2e724395-fe5e-413b-efe8-552f7eae39c3"
   },
   "outputs": [
    {
     "name": "stdout",
     "output_type": "stream",
     "text": [
      "[0.07882985347854438, 0.039998108271029675, 0.01473292400940012, 0.019434960812328282]\n"
     ]
    }
   ],
   "source": [
    "from scipy.optimize import root\n",
    "initParam = [np.log(k),theta,sigma,r]\n",
    "calib = root(LossFunction, initParam, (ZCCurve[:,2],ZCCurve[:,0]))\n",
    "calibParam = [np.exp(calib.x[0]),calib.x[1],calib.x[2],calib.x[3]]\n",
    "print(calibParam)\n",
    "\n",
    "# question 5 : plot\n"
   ]
  },
  {
   "cell_type": "markdown",
   "metadata": {},
   "source": [
    "## Calibration parameter"
   ]
  },
  {
   "cell_type": "markdown",
   "metadata": {},
   "source": [
    "We run the code by using the parameter obtained in the calibration parameter. We notice that there is a difference between the price obtained with the initial parameter and the one with calibration."
   ]
  },
  {
   "cell_type": "code",
   "execution_count": 51,
   "metadata": {
    "id": "PZCAEw1GVePB"
   },
   "outputs": [
    {
     "name": "stdout",
     "output_type": "stream",
     "text": [
      "Price of range accrual under Vasicek: 1.8695515115879497\n",
      "Confidence interval: [1.2466605843402654, 2.0484539461176974]\n"
     ]
    }
   ],
   "source": [
    "nbSimul = 10000\n",
    "nbSteps = 100\n",
    "N = 1/12#trading day\n",
    "P = 1#Notional\n",
    "K1 = 0.03 #1st index in the range\n",
    "K2 = 0.05#last index in the range\n",
    "k = 0.07882985347854438 #k obtained in calibration parameter\n",
    "theta = 0.039998108271029675 #long term value of interest rate\n",
    "sigma = 0.01473292400940012\n",
    "r = 0.019434960812328282\n",
    "t = 0\n",
    "#S = [2**i for i in range(10)]#N and S has to be the same length\n",
    "\n",
    "print(f'Price of range accrual under Vasicek: {VasicekRangeAccrualByMC(t,k,K1,K2,N,P,theta,sigma,r,nbSimul,nbSteps)[0]}')\n",
    "print(f'Confidence interval: {VasicekRangeAccrualByMC(t,k,K1,K2,N,P,theta,sigma,r,nbSimul,nbSteps)[1]}')"
   ]
  },
  {
   "cell_type": "code",
   "execution_count": 52,
   "metadata": {},
   "outputs": [
    {
     "name": "stdout",
     "output_type": "stream",
     "text": [
      "24388.743401896736\n",
      "4858717.506655085\n"
     ]
    }
   ],
   "source": [
    "nbSimul = 10000\n",
    "nbSteps = 100\n",
    "N = 1/12#trading day\n",
    "P = 1#Notional\n",
    "K1 = 0.03 #1st index in the range\n",
    "K2 = 0.05#last index in the range\n",
    "k = 0.07882985347854438 #k obtained in calibration parameter\n",
    "theta = 0.039998108271029675 #long term value of interest rate\n",
    "sigma = 0.01473292400940012\n",
    "r = 0.019434960812328282\n",
    "t = 0\n",
    "eps = 0.01\n",
    "print(FirstOrderSensitivity(t,k,K1,K2,N,P,theta,sigma,r,nbSimul,nbSteps, eps))\n",
    "print(SecondOrderSensitivity(t,k,K1,K2,N,P,theta,sigma,r,nbSimul,nbSteps, eps))#the value is weird!"
   ]
  },
  {
   "cell_type": "code",
   "execution_count": null,
   "metadata": {},
   "outputs": [],
   "source": []
  }
 ],
 "metadata": {
  "colab": {
   "provenance": []
  },
  "kernelspec": {
   "display_name": "Python 3 (ipykernel)",
   "language": "python",
   "name": "python3"
  },
  "language_info": {
   "codemirror_mode": {
    "name": "ipython",
    "version": 3
   },
   "file_extension": ".py",
   "mimetype": "text/x-python",
   "name": "python",
   "nbconvert_exporter": "python",
   "pygments_lexer": "ipython3",
   "version": "3.8.12"
  }
 },
 "nbformat": 4,
 "nbformat_minor": 1
}
